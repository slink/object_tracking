{
 "metadata": {
  "name": "",
  "signature": "sha256:58c002d6ff6f011d4f31914d289387d9fff354464fe29f3ccccf8205f808e4a7"
 },
 "nbformat": 3,
 "nbformat_minor": 0,
 "worksheets": [
  {
   "cells": [
    {
     "cell_type": "code",
     "collapsed": false,
     "input": [
      "%pylab inline\n",
      "import os, sys\n",
      "from still_extractor import video_duration, segment_extractor, HHMMSS, still_cropper \n",
      "from frame_test import rgb2gray, region_props, imabsdiff # video_track\n",
      "FFMPEG_BINARY = 'ffmpeg'\n",
      "\n",
      "%load_ext memory_profiler"
     ],
     "language": "python",
     "metadata": {},
     "outputs": [
      {
       "output_type": "stream",
       "stream": "stdout",
       "text": [
        "Populating the interactive namespace from numpy and matplotlib\n"
       ]
      }
     ],
     "prompt_number": 1
    },
    {
     "cell_type": "code",
     "collapsed": false,
     "input": [
      "video_name = 'may_29_14_t1r.mov'\n",
      "video_length = video_duration(FFMPEG_BINARY, video_name)"
     ],
     "language": "python",
     "metadata": {},
     "outputs": [],
     "prompt_number": 2
    },
    {
     "cell_type": "code",
     "collapsed": false,
     "input": [
      "def moving_average(a, n=3) :\n",
      "    ret = np.cumsum(a, dtype=float)\n",
      "    ret[n:] = ret[n:] - ret[:-n]\n",
      "    return ret[n - 1:] / n\n",
      "\n",
      "# update_progress() : Displays or updates a console progress bar\n",
      "## Accepts a float between 0 and 1. Any int will be converted to a float.\n",
      "## A value under 0 represents a 'halt'.\n",
      "## A value at 1 or bigger represents 100%\n",
      "def update_progress(progress):\n",
      "    barLength = 10 # Modify this to change the length of the progress bar\n",
      "    status = \"\"\n",
      "    if isinstance(progress, int):\n",
      "        progress = float(progress)\n",
      "    if not isinstance(progress, float):\n",
      "        progress = 0\n",
      "        status = \"error: progress var must be float\\r\\n\"\n",
      "    if progress < 0:\n",
      "        progress = 0\n",
      "        status = \"Halt...\\r\\n\"\n",
      "    if progress >= 1:\n",
      "        progress = 1\n",
      "        status = \"Done...\\r\\n\"\n",
      "    block = int(round(barLength*progress))\n",
      "    text = \"\\rPercent: [{0}] {1}% {2}\".format( \"#\"*block + \"-\"*(barLength-block), progress*100, status)\n",
      "    sys.stdout.write(text)\n",
      "    sys.stdout.flush()"
     ],
     "language": "python",
     "metadata": {},
     "outputs": [],
     "prompt_number": 8
    },
    {
     "cell_type": "code",
     "collapsed": false,
     "input": [
      "def video_track(FFMPEG_BINARY, video_name, fps = '1', start_time = 0, end_time = 10, duration = 1):\n",
      "    \n",
      "    thresh = 0.03\n",
      "    zoi = np.s_[150:900, 850:1050]\n",
      "\n",
      "    ymin_global = []\n",
      "\n",
      "    for segment_start in np.arange(start_time, end_time, duration): # 'duration' second increments\n",
      "        \n",
      "        if (segment_start + duration) % 5 == 0:\n",
      "            print 'processing: ' + str(segment_start) + ' to ' + str(segment_start + duration)\n",
      "            sys.stdout.flush()\n",
      "            \n",
      "        # pulling the stills out of the movie with ffmpeg\n",
      "        stills = segment_extractor(FFMPEG_BINARY, video_name, fps = str(fps), start_time = HHMMSS(segment_start), duration = 7 / float(fps))\n",
      "        \n",
      "        # cropping the stills\n",
      "        # cropped_files = [still_cropper(still, zoi = zoi) for still in stills]\n",
      "\n",
      "        # for i, file_name in enumerate(stills[1:-1]):\n",
      "            # cropping the stills and greyscaling them\n",
      "        frame_curr = rgb2gray(imread(stills[3])[zoi[0], zoi[1],:])\n",
      "        frame_prev = rgb2gray(imread(stills[0])[zoi[0], zoi[1],:])\n",
      "        frame_fut = rgb2gray(imread(stills[-1])[zoi[0], zoi[1],:])\n",
      "\n",
      "        frame_diff_b = imabsdiff(frame_curr, frame_prev)\n",
      "        frame_diff_f = imabsdiff(frame_fut, frame_curr)\n",
      "        frame_diff = imabsdiff(frame_diff_f, frame_diff_b)\n",
      "\n",
      "        # going from floats to ints\n",
      "        frame_diff *= 255\n",
      "        frame_diff = frame_diff_f.astype(int)\n",
      "        # thresholding \n",
      "        thresh_mat = frame_diff >= (thresh * 255)\n",
      "        # region_props\n",
      "        centroid, ymin, area = region_props(thresh_mat, 100, conn = 40)\n",
      "        # frame_diff_b=imabsdiff(frame_curr, frame_prev)\n",
      "        if len(ymin) is not 0:\n",
      "            # print ymin[0]\n",
      "            ymin_global.append(ymin[0])\n",
      "            # figure()\n",
      "            # subplot(1,2,1)\n",
      "            # imshow(frame_diff_f, cmap='Greys')\n",
      "            # plt.axhline(ymin[0], linewidth = 2.5)\n",
      "            # subplot(1,2,2)\n",
      "            # imshow(frame_diff_b, cmap='Greys')\n",
      "        else:\n",
      "            ymin_global.append(np.nan)\n",
      "\n",
      "    removal_check = [os.remove(still) for still in stills]\n",
      "        \n",
      "    return ymin_global"
     ],
     "language": "python",
     "metadata": {},
     "outputs": [],
     "prompt_number": 4
    },
    {
     "cell_type": "code",
     "collapsed": false,
     "input": [
      "y_min = video_track(FFMPEG_BINARY, video_name, fps = '24', start_time = 120, end_time = 130, duration = 1)"
     ],
     "language": "python",
     "metadata": {},
     "outputs": [
      {
       "output_type": "stream",
       "stream": "stdout",
       "text": [
        "processing: 124 to 125\n"
       ]
      },
      {
       "output_type": "stream",
       "stream": "stdout",
       "text": [
        "processing: 129 to 130\n"
       ]
      }
     ],
     "prompt_number": 5
    },
    {
     "cell_type": "code",
     "collapsed": false,
     "input": [
      "print len(y_min)\n",
      "plt.plot(moving_average(y_min, n = 1), '*')"
     ],
     "language": "python",
     "metadata": {},
     "outputs": [
      {
       "output_type": "stream",
       "stream": "stdout",
       "text": [
        "10\n"
       ]
      },
      {
       "metadata": {},
       "output_type": "pyout",
       "prompt_number": 7,
       "text": [
        "[<matplotlib.lines.Line2D at 0x1040f0d50>]"
       ]
      },
      {
       "metadata": {},
       "output_type": "display_data",
       "png": "[encoded data removed]",
       "text": [
        "<matplotlib.figure.Figure at 0x10c8879d0>"
       ]
      }
     ],
     "prompt_number": 7
    },
    {
     "cell_type": "code",
     "collapsed": false,
     "input": [
      "fps = '20'\n",
      "3 / float(fps)"
     ],
     "language": "python",
     "metadata": {},
     "outputs": [
      {
       "metadata": {},
       "output_type": "pyout",
       "prompt_number": 33,
       "text": [
        "0.15"
       ]
      }
     ],
     "prompt_number": 33
    },
    {
     "cell_type": "code",
     "collapsed": false,
     "input": [],
     "language": "python",
     "metadata": {},
     "outputs": []
    }
   ],
   "metadata": {}
  }
 ]
}