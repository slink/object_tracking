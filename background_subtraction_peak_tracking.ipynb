{
 "metadata": {
  "name": ""
 },
 "nbformat": 3,
 "nbformat_minor": 0,
 "worksheets": [
  {
   "cells": [
    {
     "cell_type": "code",
     "collapsed": false,
     "input": [
      "# fmpeg -ss 00:00:11 -t 00:00:15 -i test.mp4 -r 25.0 test%4d.jpg\n",
      "# import moviepy.video.io.ffmpeg_tools as ffmpeg_tools\n",
      "# import moviepy.video.io.ffmpeg_reader as ffmpeg_reader"
     ],
     "language": "python",
     "metadata": {},
     "outputs": [],
     "prompt_number": 1
    },
    {
     "cell_type": "code",
     "collapsed": false,
     "input": [
      "%pylab inline\n",
      "# from scipy.misc import imread, imsave\n",
      "import glob, re, os\n",
      "\n",
      "import subprocess as sp\n",
      "from skimage import filter as filt \n",
      "from scipy import ndimage"
     ],
     "language": "python",
     "metadata": {},
     "outputs": [
      {
       "output_type": "stream",
       "stream": "stdout",
       "text": [
        "Populating the interactive namespace from numpy and matplotlib\n"
       ]
      }
     ],
     "prompt_number": 10
    },
    {
     "cell_type": "code",
     "collapsed": false,
     "input": [
      "def cvsecs(*args):\n",
      "    # This function is substantially based on one found at http://zulko.github.io/moviepy/\n",
      "    # used from within load_infos\n",
      "    \"\"\"\n",
      "    Converts a time to second. Either cvsecs(min,secs) or\n",
      "    cvsecs(hours,mins,secs).\n",
      "    >>> cvsecs(5.5) # -> 5.5 seconds\n",
      "    >>> cvsecs(10, 4.5) # -> 604.5 seconds\n",
      "    >>> cvsecs(1, 0, 5) # -> 3605 seconds\n",
      "    \"\"\"\n",
      "    if len(args) == 1:\n",
      "        return args[0]\n",
      "    elif len(args) == 2:\n",
      "        return 60*args[0]+args[1]\n",
      "    elif len(args) ==3:\n",
      "        return 3600*args[0]+60*args[1]+args[2]"
     ],
     "language": "python",
     "metadata": {},
     "outputs": [],
     "prompt_number": 2
    },
    {
     "cell_type": "code",
     "collapsed": false,
     "input": [
      "def load_infos(FFMPEG_BINARY, filename, print_infos=False):\n",
      "    # This function is substantially based on one found at http://zulko.github.io/moviepy/\n",
      "    \"\"\" reads the FFMPEG info on the file and sets self.size\n",
      "    and self.fps \"\"\"\n",
      "    # open the file in a pipe, provoke an error, read output\n",
      "    proc = sp.Popen([FFMPEG_BINARY, \"-i\", filename, \"-\"],\n",
      "        stdin=sp.PIPE,\n",
      "        stdout=sp.PIPE,\n",
      "        stderr=sp.PIPE)\n",
      "    proc.stdout.readline()\n",
      "    proc.terminate()\n",
      "    infos = proc.stderr.read()\n",
      "    if print_infos:\n",
      "        # print the whole info text returned by FFMPEG\n",
      "        print infos\n",
      "\n",
      "    lines = infos.splitlines()\n",
      "    if \"No such file or directory\" in lines[-1]:\n",
      "        raise IOError(\"%s not found ! Wrong path ?\" % filename)\n",
      "\n",
      "    # get the output line that speaks about video\n",
      "    line = [l for l in lines if ' Video: ' in l][0]\n",
      "\n",
      "    # get the size, of the form 460x320 (w x h)\n",
      "    match = re.search(\" [0-9]*x[0-9]*(,| )\", line)\n",
      "    size = map(int, line[match.start():match.end()-1].split('x'))\n",
      "\n",
      "    # get the frame rate\n",
      "    match = re.search(\"( [0-9]*.| )[0-9]* (tbr|fps)\", line)\n",
      "    fps = float(line[match.start():match.end()].split(' ')[1])\n",
      "\n",
      "    # get duration (in seconds)\n",
      "    line = [l for l in lines if 'Duration: ' in l][0]\n",
      "    match = re.search(\" [0-9][0-9]:[0-9][0-9]:[0-9][0-9].[0-9][0-9]\", line)\n",
      "    hms = map(float, line[match.start()+1:match.end()].split(':'))\n",
      "    duration = cvsecs(*hms)\n",
      "    nframes = int(duration*fps)\n",
      "    \n",
      "    print fps, duration, size\n"
     ],
     "language": "python",
     "metadata": {},
     "outputs": [],
     "prompt_number": 3
    },
    {
     "cell_type": "code",
     "collapsed": false,
     "input": [
      "load_infos('ffmpeg', './test_videos/test.mp4')"
     ],
     "language": "python",
     "metadata": {},
     "outputs": [
      {
       "output_type": "stream",
       "stream": "stdout",
       "text": [
        "25.0 82.52 [480, 360]\n"
       ]
      }
     ],
     "prompt_number": 4
    },
    {
     "cell_type": "code",
     "collapsed": false,
     "input": [
      "def background_image_list(image_folder, n = 60):\n",
      "    image_list = []\n",
      "    image_folder = os.path.join(os.getcwd(), image_folder)\n",
      "    for i in range(1,n+1):\n",
      "        if i < 10:  \n",
      "            test_name = 'test000' + str(i) + '.jpg'\n",
      "            filename = os.path.join(image_folder, test_name)\n",
      "            image_list.append(filename)\n",
      "        else:\n",
      "            test_name = 'test00' + str(i) + '.jpg'\n",
      "            filename = os.path.join(image_folder, test_name)\n",
      "            image_list.append(filename)\n",
      "    \n",
      "    return image_list\n",
      "\n",
      "def test_image_list(image_folder, start = 85, end = 95):\n",
      "    image_list = []\n",
      "    image_folder = os.path.join(os.getcwd(), image_folder)\n",
      "    for i in range(start,end+1):\n",
      "        if i < 10:  \n",
      "            test_name = 'test000' + str(i) + '.jpg'\n",
      "            filename = os.path.join(image_folder, test_name)\n",
      "            image_list.append(filename)\n",
      "        else:\n",
      "            test_name = 'test00' + str(i) + '.jpg'\n",
      "            filename = os.path.join(image_folder, test_name)\n",
      "            image_list.append(filename)\n",
      "    \n",
      "    return image_list"
     ],
     "language": "python",
     "metadata": {},
     "outputs": [],
     "prompt_number": 9
    },
    {
     "cell_type": "code",
     "collapsed": false,
     "input": [
      "def find_median_background(n = 60, channel = 0, axis = 2):\n",
      "    \n",
      "    for i, filename in enumerate(background_image_list('test_jpgs', n = 60)):\n",
      "        if i == 0: background_temp_data = imread(filename)[:,:,channel]\n",
      "        else: background_temp_data = np.dstack((background_temp_data, imread(filename)[:,:,channel]))\n",
      "    \n",
      "    return np.mean(background_temp_data, axis = axis)\n",
      "    # np.min(background_temp_data, axis = axis)\n",
      "    # np.median(background_temp_data, axis = axis)"
     ],
     "language": "python",
     "metadata": {},
     "outputs": [],
     "prompt_number": 11
    },
    {
     "cell_type": "code",
     "collapsed": false,
     "input": [
      "def pixel_distance(tup1, tup2):\n",
      "    # sqrt((x2 - x1)^2 + (y2 - y1)^2)\n",
      "    return sqrt(np.dot(tup2,tup1))"
     ],
     "language": "python",
     "metadata": {},
     "outputs": [],
     "prompt_number": 12
    },
    {
     "cell_type": "code",
     "collapsed": false,
     "input": [
      "background_image = find_median_background()\n",
      "\n",
      "def background_subtraction(filename, background_image, channel = 0, std = 5):\n",
      "    test_im = imread(filename)[:,:,channel]\n",
      "    filtered = test_im - background_image\n",
      "    smoothed = filt.gaussian_filter(filtered, sigma = std)\n",
      "    return smoothed"
     ],
     "language": "python",
     "metadata": {},
     "outputs": [],
     "prompt_number": 13
    },
    {
     "cell_type": "code",
     "collapsed": false,
     "input": [
      "def thresholding(image, threshold = 0.25):\n",
      "    return image > threshold*image.max()"
     ],
     "language": "python",
     "metadata": {},
     "outputs": [],
     "prompt_number": 14
    },
    {
     "cell_type": "code",
     "collapsed": false,
     "input": [
      "def center_of_mass(image):\n",
      "    return ndimage.measurements.center_of_mass(image)"
     ],
     "language": "python",
     "metadata": {},
     "outputs": [],
     "prompt_number": 15
    },
    {
     "cell_type": "code",
     "collapsed": false,
     "input": [
      "def peak_velocity(filelist, fps = 25):\n",
      "    dist = []\n",
      "    max_ind_n1 = ()\n",
      "    background_image = find_median_background()\n",
      "    \n",
      "    for i, filename in enumerate(filelist):\n",
      "        if i == 0:\n",
      "            bs_image = background_subtraction(filename, background_image)\n",
      "            com = center_of_mass(thresholding(bs_image))\n",
      "            # max_ind =  unravel_index(bs_image.argmax(), bs_image.shape)\n",
      "            dist.append(pixel_distance(com, com))\n",
      "            max_ind_n1 = com\n",
      "        else:\n",
      "            bs_image = background_subtraction(filename, background_image)\n",
      "            com = center_of_mass(thresholding(bs_image))\n",
      "            # max_ind =  unravel_index(bs_image.argmax(), bs_image.shape)\n",
      "            dist.append(pixel_distance(max_ind_n1, com))\n",
      "            max_ind_n1 = com\n",
      "    return np.array(dist) / float(fps)"
     ],
     "language": "python",
     "metadata": {},
     "outputs": [],
     "prompt_number": 16
    },
    {
     "cell_type": "code",
     "collapsed": false,
     "input": [
      "plt.plot(peak_velocity(test_image_list('test_jpgs')))"
     ],
     "language": "python",
     "metadata": {},
     "outputs": [
      {
       "metadata": {},
       "output_type": "pyout",
       "prompt_number": 18,
       "text": [
        "[<matplotlib.lines.Line2D at 0x108ac7850>]"
       ]
      },
      {
       "metadata": {},
       "output_type": "display_data",
       "png": "[encoded data removed]",
       "text": [
        "<matplotlib.figure.Figure at 0x108a0f290>"
       ]
      }
     ],
     "prompt_number": 18
    },
    {
     "cell_type": "code",
     "collapsed": false,
     "input": [
      "background_image = find_median_background()\n",
      "\n",
      "bob = background_subtraction('./test_jpgs/test0086.jpg', background_image)\n",
      "bob = thresholding(bob)\n",
      "plt.pcolor(bob, cmap = 'Greys')\n",
      "com = center_of_mass(bob)\n",
      "plt.plot(com[1], com[0], 'r*')"
     ],
     "language": "python",
     "metadata": {},
     "outputs": [
      {
       "metadata": {},
       "output_type": "pyout",
       "prompt_number": 21,
       "text": [
        "[<matplotlib.lines.Line2D at 0x108a9cd90>]"
       ]
      },
      {
       "metadata": {},
       "output_type": "display_data",
       "png": "[encoded data removed]",
       "text": [
        "<matplotlib.figure.Figure at 0x108eaeb10>"
       ]
      }
     ],
     "prompt_number": 21
    },
    {
     "cell_type": "code",
     "collapsed": false,
     "input": [
      "def find_front_edge(image):\n",
      "    \"\"\"\n",
      "    find_front_edge(image)\n",
      "    \n",
      "    takes in a thresholded and filtered image and returns an (x,y) \n",
      "    pair of values corresponding to the front edge of the moving 'blob'\n",
      "    \"\"\"\n",
      "    front_col = 0\n",
      "    for i, column in enumerate(image.T):\n",
      "        if column.max() == True: \n",
      "            front_col = i\n",
      "            break\n",
      "            \n",
      "    row_up = image[:,front_col].argmax()\n",
      "    row_down = image[:,front_col][::-1].argmax()\n",
      "    front_row = int(np.mean([row_up, row_down]))\n",
      "    return (front_col, front_row)\n",
      "\n",
      "#plt.pcolor(bob, cmap = 'Greys')\n",
      "#com = center_of_mass(bob)\n",
      "#plt.plot(front_col, row_up, 'r.', markersize=10)"
     ],
     "language": "python",
     "metadata": {},
     "outputs": [],
     "prompt_number": 58
    },
    {
     "cell_type": "code",
     "collapsed": false,
     "input": [
      "print bob[:,front_col[0]].argmax()\n",
      "bob[:,front_col[0]][::].argmax()"
     ],
     "language": "python",
     "metadata": {},
     "outputs": [
      {
       "output_type": "stream",
       "stream": "stdout",
       "text": [
        "181\n",
        "174\n"
       ]
      }
     ],
     "prompt_number": 40
    },
    {
     "cell_type": "code",
     "collapsed": false,
     "input": [
      "front_row"
     ],
     "language": "python",
     "metadata": {},
     "outputs": [
      {
       "metadata": {},
       "output_type": "pyout",
       "prompt_number": 42,
       "text": [
        "177"
       ]
      }
     ],
     "prompt_number": 42
    },
    {
     "cell_type": "code",
     "collapsed": false,
     "input": [
      "plt.plot(bob[170:200,front_col[0]])"
     ],
     "language": "python",
     "metadata": {},
     "outputs": [
      {
       "metadata": {},
       "output_type": "pyout",
       "prompt_number": 45,
       "text": [
        "[<matplotlib.lines.Line2D at 0x16afc3150>]"
       ]
      },
      {
       "metadata": {},
       "output_type": "display_data",
       "png": "[encoded data removed]",
       "text": [
        "<matplotlib.figure.Figure at 0x189858950>"
       ]
      }
     ],
     "prompt_number": 45
    },
    {
     "cell_type": "code",
     "collapsed": false,
     "input": [],
     "language": "python",
     "metadata": {},
     "outputs": []
    }
   ],
   "metadata": {}
  }
 ]
}